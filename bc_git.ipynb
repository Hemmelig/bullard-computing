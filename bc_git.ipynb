{
 "cells": [
  {
   "cell_type": "markdown",
   "metadata": {},
   "source": [
    "# Bullard computing: Git and GitHub"
   ]
  },
  {
   "cell_type": "markdown",
   "metadata": {},
   "source": [
    "Git is a version control system for tracking changes in computer files and coordinating work on those files among multiple people. The following guide has largely been appropriated from a few sources (particularly the GitHub website).\n",
    "\n",
    "To use Git on the command line, you'll need to download, install, and configure Git on your computer."
   ]
  },
  {
   "cell_type": "markdown",
   "metadata": {},
   "source": [
    "***\n",
    "### Setting up Git\n",
    "1\\. [Download and install the latest version of Git](https://git-scm.com/downloads)\n",
    "\n",
    "2\\. [Set your username in Git](https://help.github.com/articles/setting-your-username-in-git)\n",
    "\n",
    "3\\. [Set your commit email address in Git](https://help.github.com/articles/setting-your-commit-email-address-in-git)"
   ]
  },
  {
   "cell_type": "markdown",
   "metadata": {},
   "source": [
    "***\n",
    "Test"
   ]
  },
  {
   "cell_type": "code",
   "execution_count": null,
   "metadata": {},
   "outputs": [],
   "source": []
  },
  {
   "cell_type": "code",
   "execution_count": null,
   "metadata": {},
   "outputs": [],
   "source": []
  }
 ],
 "metadata": {
  "kernelspec": {
   "display_name": "Python 3",
   "language": "python",
   "name": "python3"
  },
  "language_info": {
   "codemirror_mode": {
    "name": "ipython",
    "version": 3
   },
   "file_extension": ".py",
   "mimetype": "text/x-python",
   "name": "python",
   "nbconvert_exporter": "python",
   "pygments_lexer": "ipython3",
   "version": "3.5.2"
  }
 },
 "nbformat": 4,
 "nbformat_minor": 2
}
