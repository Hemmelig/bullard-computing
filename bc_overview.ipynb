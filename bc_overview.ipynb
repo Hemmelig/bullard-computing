{
 "cells": [
  {
   "cell_type": "markdown",
   "metadata": {},
   "source": [
    "<img src=\"images/esc_logo.png\", width=300mm, align=right>\n",
    "# Bullard computing: Overview\n",
    "\n",
    "### Conor Bacon (cb793)"
   ]
  },
  {
   "cell_type": "markdown",
   "metadata": {},
   "source": [
    "***\n",
    "## Introduction\n",
    "This series of Jupyter notebooks have been designed to follow the material presented in the follow up to the first Bullard computing talk held in Michaelmas term. We aim to present some of the main tips and tricks that the community have picked up during their time working with code that we wish we could have known about earlier. In this way we hope to advance the general level of computational fluency in the department, for the benefit of all. \n",
    "<br>\n",
    "<br>\n",
    "If you there are any particular aspects of coding that you believe we should cover here, we're more than happy to take contributions, just drop us an email.\n"
   ]
  },
  {
   "cell_type": "markdown",
   "metadata": {},
   "source": [
    "***\n",
    "## Overview\n",
    "This Jupyter notebook will give an overview of each of the topics we will cover, with links to further notebooks that will explore each of the themes in more depth.\n",
    "\n",
    "-  [What programming language should I use anyway?](#Language-choices)\n",
    "-  [Best practice in coding](#Best-practice)\n",
    "-  [Jupyter notebooks](#Jupyter-notebooks)\n",
    "-  [Python package management with Conda](#Conda)\n",
    "-  [Version control with git](#Git)\n",
    "-  [Python modules](#Python-module-design)\n",
    "-  Data manipulation\n",
    "    - [pandas](#Pandas)\n",
    "    - [matrix manipulation](#Matrix-operations)\n",
    "-  Data visualisation\n",
    "    - [GMT](#GMT)\n",
    "    - [seaborn](#Seaborn)"
   ]
  },
  {
   "cell_type": "markdown",
   "metadata": {},
   "source": [
    "***\n",
    "## Language choices\n",
    "This, in all honesty, comes down to a question of preference (and what . There are, however, some important things to consider.\n",
    "\n",
    "### Python\n",
    "Python is a general-purpose language used for everything from server automation to data science. Python is a great language for beginners, because it is easy to read and understand. You can also do so many things with Python that it’s easy to stick with the language for quite a while before needing something else. Python finds itself at home both creating Web apps like Instagram and helping researchers make sense of their data. \n",
    "\n",
    "Python comes in two flavours - Python 2 and Python 3. Python 2 will soon be unsupported, and most libraries are gradually being ported over to Python 3. As a result, it's probably in your best interest to start with Python 3. The differences are slight, but there.\n",
    "\n",
    "### Fortran\n",
    "Literally why. Unfortunately, due to it's popularity in running highly intensive \n",
    "\n",
    "### C/C++\n",
    "Very good set of languages. An object-oriented programming language, that is compiled. If you're invested in writing code that runs fast, I definitely recommend looking into this.\n",
    "\n",
    "### MATLAB"
   ]
  },
  {
   "cell_type": "markdown",
   "metadata": {},
   "source": [
    "***\n",
    "## Best practice\n",
    "Best coding practices are a set of informal rules that the software development community has learned over time which can help improve the quality of software.\n",
    "\n",
    "Whilst it's important to find a balance between producing readable code and getting your research done quickly, establishing and following a simple set of rules will definitely help in the long run.\n",
    "\n",
    "Some things to consider:\n",
    "* Setting aside a couple of hours a week to clean up the code you've been working on."
   ]
  },
  {
   "cell_type": "markdown",
   "metadata": {},
   "source": [
    "***\n",
    "## [Jupyter notebooks](bc_jupyter.ipynb)\n",
    "A Jupyter notebook is essentially a lab book for recording and tracking the development of your python code as you build it. Snippets of python code can be written in a cell, and run by pressing `shift` + `enter`. Anything you output will be printed below the cell (e.g. figures).\n",
    "\n",
    "For more details, including how to install and start a jupyter notebook, follow the link in the title."
   ]
  },
  {
   "cell_type": "markdown",
   "metadata": {},
   "source": [
    "***\n",
    "## [Anaconda](bc_conda.ipynb)\n",
    "Anaconda is a free and open source distribution of the Python and R programming languages for large-scale data processing, predictive analytics, and scientific computing, that aims to simplify package management and deployment.\n",
    "\n",
    "Conda is an open source, cross-platform, language-agnostic package manager and environment management system that installs, runs, and updates packages and their dependencies. Conda allows users to easily:\n",
    "\n",
    "* install different versions of binary software packages and any required libraries appropriate for their computing platform\n",
    "* switch between package versions\n",
    "* download and install updates from a software repository.\n"
   ]
  },
  {
   "cell_type": "markdown",
   "metadata": {},
   "source": [
    "***\n",
    "## [GIT](bc_git.ipynb)\n",
    "\n",
    "Git is a version control system for tracking changes in computer files and coordinating work on those files among multiple people. "
   ]
  },
  {
   "cell_type": "markdown",
   "metadata": {},
   "source": [
    "***\n",
    "## Python modules"
   ]
  },
  {
   "cell_type": "markdown",
   "metadata": {},
   "source": [
    "***\n",
    "## Data manipulation"
   ]
  },
  {
   "cell_type": "markdown",
   "metadata": {},
   "source": [
    "***\n",
    "## Data visualisation"
   ]
  },
  {
   "cell_type": "code",
   "execution_count": null,
   "metadata": {},
   "outputs": [],
   "source": []
  }
 ],
 "metadata": {
  "kernelspec": {
   "display_name": "Python 3",
   "language": "python",
   "name": "python3"
  },
  "language_info": {
   "codemirror_mode": {
    "name": "ipython",
    "version": 3
   },
   "file_extension": ".py",
   "mimetype": "text/x-python",
   "name": "python",
   "nbconvert_exporter": "python",
   "pygments_lexer": "ipython3",
   "version": "3.5.2"
  }
 },
 "nbformat": 4,
 "nbformat_minor": 2
}
